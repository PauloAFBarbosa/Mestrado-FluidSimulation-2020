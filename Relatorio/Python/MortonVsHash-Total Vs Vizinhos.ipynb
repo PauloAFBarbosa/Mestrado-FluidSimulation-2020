{
 "cells": [
  {
   "cell_type": "markdown",
   "id": "44db4083",
   "metadata": {},
   "source": [
    "# Morton Code vs Hash map - total vs vizinhos\n",
    "## Vai comparar o numero de particulas que são comparadas com o numero dessas particulas que são vizinhas"
   ]
  },
  {
   "cell_type": "code",
   "execution_count": 6,
   "id": "3ebbccf7",
   "metadata": {},
   "outputs": [],
   "source": [
    "import csv\n",
    "import pandas as pd"
   ]
  },
  {
   "cell_type": "code",
   "execution_count": 7,
   "id": "30247099",
   "metadata": {},
   "outputs": [],
   "source": [
    "# Total Vizinhos nan FRAMES\n",
    "hashMap = pd.read_csv('data/HashMap_size1M_total_Vs_vizinhos.txt',sep=' ',usecols= ['Total','Vizinhos','FRAMES'])\n",
    "mortonCode = pd.read_csv('data/MortonCode_total_Vs_vizinhos.txt',sep=' ',usecols= ['Total','Vizinhos','FRAMES'])"
   ]
  },
  {
   "cell_type": "code",
   "execution_count": 8,
   "id": "4b014f97",
   "metadata": {},
   "outputs": [
    {
     "data": {
      "text/html": [
       "<div>\n",
       "<style scoped>\n",
       "    .dataframe tbody tr th:only-of-type {\n",
       "        vertical-align: middle;\n",
       "    }\n",
       "\n",
       "    .dataframe tbody tr th {\n",
       "        vertical-align: top;\n",
       "    }\n",
       "\n",
       "    .dataframe thead th {\n",
       "        text-align: right;\n",
       "    }\n",
       "</style>\n",
       "<table border=\"1\" class=\"dataframe\">\n",
       "  <thead>\n",
       "    <tr style=\"text-align: right;\">\n",
       "      <th></th>\n",
       "      <th>Total</th>\n",
       "      <th>Vizinhos</th>\n",
       "      <th>FRAMES</th>\n",
       "    </tr>\n",
       "  </thead>\n",
       "  <tbody>\n",
       "    <tr>\n",
       "      <th>0</th>\n",
       "      <td>303538</td>\n",
       "      <td>29452</td>\n",
       "      <td>500</td>\n",
       "    </tr>\n",
       "    <tr>\n",
       "      <th>1</th>\n",
       "      <td>303538</td>\n",
       "      <td>29418</td>\n",
       "      <td>500</td>\n",
       "    </tr>\n",
       "    <tr>\n",
       "      <th>2</th>\n",
       "      <td>303538</td>\n",
       "      <td>29350</td>\n",
       "      <td>500</td>\n",
       "    </tr>\n",
       "    <tr>\n",
       "      <th>3</th>\n",
       "      <td>303538</td>\n",
       "      <td>29234</td>\n",
       "      <td>500</td>\n",
       "    </tr>\n",
       "    <tr>\n",
       "      <th>4</th>\n",
       "      <td>303538</td>\n",
       "      <td>29478</td>\n",
       "      <td>500</td>\n",
       "    </tr>\n",
       "    <tr>\n",
       "      <th>...</th>\n",
       "      <td>...</td>\n",
       "      <td>...</td>\n",
       "      <td>...</td>\n",
       "    </tr>\n",
       "    <tr>\n",
       "      <th>1727995</th>\n",
       "      <td>244727</td>\n",
       "      <td>27379</td>\n",
       "      <td>500</td>\n",
       "    </tr>\n",
       "    <tr>\n",
       "      <th>1727996</th>\n",
       "      <td>235926</td>\n",
       "      <td>26239</td>\n",
       "      <td>500</td>\n",
       "    </tr>\n",
       "    <tr>\n",
       "      <th>1727997</th>\n",
       "      <td>234370</td>\n",
       "      <td>26048</td>\n",
       "      <td>500</td>\n",
       "    </tr>\n",
       "    <tr>\n",
       "      <th>1727998</th>\n",
       "      <td>233871</td>\n",
       "      <td>26040</td>\n",
       "      <td>500</td>\n",
       "    </tr>\n",
       "    <tr>\n",
       "      <th>1727999</th>\n",
       "      <td>233871</td>\n",
       "      <td>26087</td>\n",
       "      <td>500</td>\n",
       "    </tr>\n",
       "  </tbody>\n",
       "</table>\n",
       "<p>1728000 rows × 3 columns</p>\n",
       "</div>"
      ],
      "text/plain": [
       "          Total  Vizinhos  FRAMES\n",
       "0        303538     29452     500\n",
       "1        303538     29418     500\n",
       "2        303538     29350     500\n",
       "3        303538     29234     500\n",
       "4        303538     29478     500\n",
       "...         ...       ...     ...\n",
       "1727995  244727     27379     500\n",
       "1727996  235926     26239     500\n",
       "1727997  234370     26048     500\n",
       "1727998  233871     26040     500\n",
       "1727999  233871     26087     500\n",
       "\n",
       "[1728000 rows x 3 columns]"
      ]
     },
     "execution_count": 8,
     "metadata": {},
     "output_type": "execute_result"
    }
   ],
   "source": [
    "hashMap"
   ]
  },
  {
   "cell_type": "code",
   "execution_count": 9,
   "id": "553d955d",
   "metadata": {},
   "outputs": [
    {
     "data": {
      "text/html": [
       "<div>\n",
       "<style scoped>\n",
       "    .dataframe tbody tr th:only-of-type {\n",
       "        vertical-align: middle;\n",
       "    }\n",
       "\n",
       "    .dataframe tbody tr th {\n",
       "        vertical-align: top;\n",
       "    }\n",
       "\n",
       "    .dataframe thead th {\n",
       "        text-align: right;\n",
       "    }\n",
       "</style>\n",
       "<table border=\"1\" class=\"dataframe\">\n",
       "  <thead>\n",
       "    <tr style=\"text-align: right;\">\n",
       "      <th></th>\n",
       "      <th>Total</th>\n",
       "      <th>Vizinhos</th>\n",
       "      <th>FRAMES</th>\n",
       "    </tr>\n",
       "  </thead>\n",
       "  <tbody>\n",
       "    <tr>\n",
       "      <th>0</th>\n",
       "      <td>160776</td>\n",
       "      <td>24745</td>\n",
       "      <td>500</td>\n",
       "    </tr>\n",
       "    <tr>\n",
       "      <th>1</th>\n",
       "      <td>161051</td>\n",
       "      <td>23727</td>\n",
       "      <td>500</td>\n",
       "    </tr>\n",
       "    <tr>\n",
       "      <th>2</th>\n",
       "      <td>161459</td>\n",
       "      <td>20314</td>\n",
       "      <td>500</td>\n",
       "    </tr>\n",
       "    <tr>\n",
       "      <th>3</th>\n",
       "      <td>161694</td>\n",
       "      <td>22066</td>\n",
       "      <td>500</td>\n",
       "    </tr>\n",
       "    <tr>\n",
       "      <th>4</th>\n",
       "      <td>161839</td>\n",
       "      <td>21948</td>\n",
       "      <td>500</td>\n",
       "    </tr>\n",
       "    <tr>\n",
       "      <th>...</th>\n",
       "      <td>...</td>\n",
       "      <td>...</td>\n",
       "      <td>...</td>\n",
       "    </tr>\n",
       "    <tr>\n",
       "      <th>1727995</th>\n",
       "      <td>32427</td>\n",
       "      <td>8746</td>\n",
       "      <td>500</td>\n",
       "    </tr>\n",
       "    <tr>\n",
       "      <th>1727996</th>\n",
       "      <td>30097</td>\n",
       "      <td>8755</td>\n",
       "      <td>500</td>\n",
       "    </tr>\n",
       "    <tr>\n",
       "      <th>1727997</th>\n",
       "      <td>28688</td>\n",
       "      <td>8674</td>\n",
       "      <td>500</td>\n",
       "    </tr>\n",
       "    <tr>\n",
       "      <th>1727998</th>\n",
       "      <td>26699</td>\n",
       "      <td>8599</td>\n",
       "      <td>500</td>\n",
       "    </tr>\n",
       "    <tr>\n",
       "      <th>1727999</th>\n",
       "      <td>23893</td>\n",
       "      <td>8406</td>\n",
       "      <td>500</td>\n",
       "    </tr>\n",
       "  </tbody>\n",
       "</table>\n",
       "<p>1728000 rows × 3 columns</p>\n",
       "</div>"
      ],
      "text/plain": [
       "          Total  Vizinhos  FRAMES\n",
       "0        160776     24745     500\n",
       "1        161051     23727     500\n",
       "2        161459     20314     500\n",
       "3        161694     22066     500\n",
       "4        161839     21948     500\n",
       "...         ...       ...     ...\n",
       "1727995   32427      8746     500\n",
       "1727996   30097      8755     500\n",
       "1727997   28688      8674     500\n",
       "1727998   26699      8599     500\n",
       "1727999   23893      8406     500\n",
       "\n",
       "[1728000 rows x 3 columns]"
      ]
     },
     "execution_count": 9,
     "metadata": {},
     "output_type": "execute_result"
    }
   ],
   "source": [
    "mortonCode"
   ]
  },
  {
   "cell_type": "code",
   "execution_count": 11,
   "id": "7003c2ce",
   "metadata": {},
   "outputs": [
    {
     "data": {
      "text/plain": [
       "numpy.int64"
      ]
     },
     "execution_count": 11,
     "metadata": {},
     "output_type": "execute_result"
    }
   ],
   "source": [
    "type(mortonCode['Total'][0])\n",
    "type(mortonCode['FRAMES'][0])"
   ]
  },
  {
   "cell_type": "code",
   "execution_count": 14,
   "id": "8191e40e",
   "metadata": {},
   "outputs": [],
   "source": [
    "#Vai criar um array qe vai ter como resultado Mortoncode[SUM][i]/Mortoncode[FRAMES][i]\n",
    "mortonCodeDiv=mortonCode['Total']/mortonCode['FRAMES']\n",
    "mortonCodeDivVizinhos=mortonCode['Vizinhos']/mortonCode['FRAMES']\n",
    "\n",
    "hashMapDiv=hashMap['Total']/hashMap['FRAMES']\n",
    "hashMapDivVizinhos=hashMap['Vizinhos']/hashMap['FRAMES']\n"
   ]
  },
  {
   "cell_type": "code",
   "execution_count": 15,
   "id": "6187d253",
   "metadata": {},
   "outputs": [],
   "source": [
    "#Soma todos os resultados e divide pelo numero de particulas, assim temos a média por particula\n",
    "mortonCodeResult = mortonCodeDiv.sum()/mortonCodeDiv.size\n",
    "mortonCodeResultVizinhos = mortonCodeDivVizinhos.sum()/mortonCodeDiv.size\n",
    "\n",
    "HashMapResult = hashMapDiv.sum()/hashMapDiv.size\n",
    "HashMapResultVizinhos = hashMapDivVizinhos.sum()/hashMapDiv.size"
   ]
  },
  {
   "cell_type": "code",
   "execution_count": 16,
   "id": "2052fb47",
   "metadata": {},
   "outputs": [
    {
     "name": "stdout",
     "output_type": "stream",
     "text": [
      "Resultado Morton Code:\n",
      "Media de total: 418.1826648634261 Média de vizinhos: 60.200202416666656\n",
      "---------\n",
      "Resultado Hash Map:\n",
      "Media de total: 611.770416979167 Média de vizinhos: 60.129777212962985\n"
     ]
    }
   ],
   "source": [
    "\n",
    "print(\"Resultado Morton Code:\")\n",
    "print(\"Media de total:\",mortonCodeResult,\"Média de vizinhos:\",mortonCodeResultVizinhos)\n",
    "print(\"---------\")\n",
    "print(\"Resultado Hash Map:\")\n",
    "print(\"Media de total:\",HashMapResult,\"Média de vizinhos:\",HashMapResultVizinhos)"
   ]
  },
  {
   "cell_type": "code",
   "execution_count": null,
   "id": "f4bba28b",
   "metadata": {},
   "outputs": [],
   "source": []
  }
 ],
 "metadata": {
  "kernelspec": {
   "display_name": "Python 3",
   "language": "python",
   "name": "python3"
  },
  "language_info": {
   "codemirror_mode": {
    "name": "ipython",
    "version": 3
   },
   "file_extension": ".py",
   "mimetype": "text/x-python",
   "name": "python",
   "nbconvert_exporter": "python",
   "pygments_lexer": "ipython3",
   "version": "3.8.8"
  }
 },
 "nbformat": 4,
 "nbformat_minor": 5
}
