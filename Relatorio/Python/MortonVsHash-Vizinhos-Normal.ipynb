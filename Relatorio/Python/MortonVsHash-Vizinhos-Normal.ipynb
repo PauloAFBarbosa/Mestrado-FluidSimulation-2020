{
 "cells": [
  {
   "cell_type": "markdown",
   "id": "593434f3",
   "metadata": {},
   "source": [
    "# Morton Code vs Hash map - Conta apenas vizinhos e Normalizado"
   ]
  },
  {
   "cell_type": "markdown",
   "id": "da39e707",
   "metadata": {},
   "source": [
    "#### No buffer debug foi gravada a distancia que é percorrida ao calcular a densidade, correndo todos os vizinhos\n",
    "#### Assim, se para a particula i (no indice 1) vamos vizitar as particulas A B e C e estas estão nos indices 3,4,5\n",
    "#### O buffer debug, vai guardar para a particula i uma distancia de 3+4+5 = 12 (no caso de A B e C serem vizinhos)"
   ]
  },
  {
   "cell_type": "markdown",
   "id": "a28f2dea",
   "metadata": {},
   "source": [
    "#### Este processo é feito por 500 frames e as distancias são todas somadas.\n",
    "#### Assim, vai se fazer uma média da distancia percorrida por particula nesses 500 frames."
   ]
  },
  {
   "cell_type": "markdown",
   "id": "3e259c37",
   "metadata": {},
   "source": [
    "## Quando digo normalizado, quere a cada iteração é guardada uma distancia média e não a soma das distancias.\n",
    "## Ou seja, para cada frame é calculada a distancia, em média, de uma particula com os seus vizinhos e esse valor é que é somado todos os frames"
   ]
  },
  {
   "cell_type": "code",
   "execution_count": 1,
   "id": "5e71664f",
   "metadata": {},
   "outputs": [],
   "source": [
    "import csv\n",
    "import pandas as pd"
   ]
  },
  {
   "cell_type": "code",
   "execution_count": 2,
   "id": "7d7523ac",
   "metadata": {},
   "outputs": [],
   "source": [
    "hashMap = pd.read_csv('data/HashMap_500Frames_Vizinhos_normal.txt',sep=' ',usecols= ['SUM','FRAMES'])\n",
    "mortonCode = pd.read_csv('data/MortonCode_500Frames_Vizinhos_normal.txt',sep=' ',usecols= ['SUM','FRAMES'])"
   ]
  },
  {
   "cell_type": "code",
   "execution_count": 3,
   "id": "31457cc1",
   "metadata": {},
   "outputs": [
    {
     "data": {
      "text/html": [
       "<div>\n",
       "<style scoped>\n",
       "    .dataframe tbody tr th:only-of-type {\n",
       "        vertical-align: middle;\n",
       "    }\n",
       "\n",
       "    .dataframe tbody tr th {\n",
       "        vertical-align: top;\n",
       "    }\n",
       "\n",
       "    .dataframe thead th {\n",
       "        text-align: right;\n",
       "    }\n",
       "</style>\n",
       "<table border=\"1\" class=\"dataframe\">\n",
       "  <thead>\n",
       "    <tr style=\"text-align: right;\">\n",
       "      <th></th>\n",
       "      <th>SUM</th>\n",
       "      <th>FRAMES</th>\n",
       "    </tr>\n",
       "  </thead>\n",
       "  <tbody>\n",
       "    <tr>\n",
       "      <th>0</th>\n",
       "      <td>354600000.0</td>\n",
       "      <td>500</td>\n",
       "    </tr>\n",
       "    <tr>\n",
       "      <th>1</th>\n",
       "      <td>363145000.0</td>\n",
       "      <td>500</td>\n",
       "    </tr>\n",
       "    <tr>\n",
       "      <th>2</th>\n",
       "      <td>366933000.0</td>\n",
       "      <td>500</td>\n",
       "    </tr>\n",
       "    <tr>\n",
       "      <th>3</th>\n",
       "      <td>359046000.0</td>\n",
       "      <td>500</td>\n",
       "    </tr>\n",
       "    <tr>\n",
       "      <th>4</th>\n",
       "      <td>357867000.0</td>\n",
       "      <td>500</td>\n",
       "    </tr>\n",
       "    <tr>\n",
       "      <th>...</th>\n",
       "      <td>...</td>\n",
       "      <td>...</td>\n",
       "    </tr>\n",
       "    <tr>\n",
       "      <th>1727995</th>\n",
       "      <td>323221000.0</td>\n",
       "      <td>500</td>\n",
       "    </tr>\n",
       "    <tr>\n",
       "      <th>1727996</th>\n",
       "      <td>321161000.0</td>\n",
       "      <td>500</td>\n",
       "    </tr>\n",
       "    <tr>\n",
       "      <th>1727997</th>\n",
       "      <td>329770000.0</td>\n",
       "      <td>500</td>\n",
       "    </tr>\n",
       "    <tr>\n",
       "      <th>1727998</th>\n",
       "      <td>325791000.0</td>\n",
       "      <td>500</td>\n",
       "    </tr>\n",
       "    <tr>\n",
       "      <th>1727999</th>\n",
       "      <td>337110000.0</td>\n",
       "      <td>500</td>\n",
       "    </tr>\n",
       "  </tbody>\n",
       "</table>\n",
       "<p>1728000 rows × 2 columns</p>\n",
       "</div>"
      ],
      "text/plain": [
       "                 SUM  FRAMES\n",
       "0        354600000.0     500\n",
       "1        363145000.0     500\n",
       "2        366933000.0     500\n",
       "3        359046000.0     500\n",
       "4        357867000.0     500\n",
       "...              ...     ...\n",
       "1727995  323221000.0     500\n",
       "1727996  321161000.0     500\n",
       "1727997  329770000.0     500\n",
       "1727998  325791000.0     500\n",
       "1727999  337110000.0     500\n",
       "\n",
       "[1728000 rows x 2 columns]"
      ]
     },
     "execution_count": 3,
     "metadata": {},
     "output_type": "execute_result"
    }
   ],
   "source": [
    "hashMap"
   ]
  },
  {
   "cell_type": "code",
   "execution_count": 4,
   "id": "7f5536ed",
   "metadata": {},
   "outputs": [
    {
     "data": {
      "text/html": [
       "<div>\n",
       "<style scoped>\n",
       "    .dataframe tbody tr th:only-of-type {\n",
       "        vertical-align: middle;\n",
       "    }\n",
       "\n",
       "    .dataframe tbody tr th {\n",
       "        vertical-align: top;\n",
       "    }\n",
       "\n",
       "    .dataframe thead th {\n",
       "        text-align: right;\n",
       "    }\n",
       "</style>\n",
       "<table border=\"1\" class=\"dataframe\">\n",
       "  <thead>\n",
       "    <tr style=\"text-align: right;\">\n",
       "      <th></th>\n",
       "      <th>SUM</th>\n",
       "      <th>FRAMES</th>\n",
       "    </tr>\n",
       "  </thead>\n",
       "  <tbody>\n",
       "    <tr>\n",
       "      <th>0</th>\n",
       "      <td>60065.7</td>\n",
       "      <td>500</td>\n",
       "    </tr>\n",
       "    <tr>\n",
       "      <th>1</th>\n",
       "      <td>43897.3</td>\n",
       "      <td>500</td>\n",
       "    </tr>\n",
       "    <tr>\n",
       "      <th>2</th>\n",
       "      <td>46402.4</td>\n",
       "      <td>500</td>\n",
       "    </tr>\n",
       "    <tr>\n",
       "      <th>3</th>\n",
       "      <td>40829.7</td>\n",
       "      <td>500</td>\n",
       "    </tr>\n",
       "    <tr>\n",
       "      <th>4</th>\n",
       "      <td>41649.7</td>\n",
       "      <td>500</td>\n",
       "    </tr>\n",
       "    <tr>\n",
       "      <th>...</th>\n",
       "      <td>...</td>\n",
       "      <td>...</td>\n",
       "    </tr>\n",
       "    <tr>\n",
       "      <th>1727995</th>\n",
       "      <td>124756.0</td>\n",
       "      <td>500</td>\n",
       "    </tr>\n",
       "    <tr>\n",
       "      <th>1727996</th>\n",
       "      <td>147720.0</td>\n",
       "      <td>500</td>\n",
       "    </tr>\n",
       "    <tr>\n",
       "      <th>1727997</th>\n",
       "      <td>111146.0</td>\n",
       "      <td>500</td>\n",
       "    </tr>\n",
       "    <tr>\n",
       "      <th>1727998</th>\n",
       "      <td>112428.0</td>\n",
       "      <td>500</td>\n",
       "    </tr>\n",
       "    <tr>\n",
       "      <th>1727999</th>\n",
       "      <td>97619.0</td>\n",
       "      <td>500</td>\n",
       "    </tr>\n",
       "  </tbody>\n",
       "</table>\n",
       "<p>1728000 rows × 2 columns</p>\n",
       "</div>"
      ],
      "text/plain": [
       "              SUM  FRAMES\n",
       "0         60065.7     500\n",
       "1         43897.3     500\n",
       "2         46402.4     500\n",
       "3         40829.7     500\n",
       "4         41649.7     500\n",
       "...           ...     ...\n",
       "1727995  124756.0     500\n",
       "1727996  147720.0     500\n",
       "1727997  111146.0     500\n",
       "1727998  112428.0     500\n",
       "1727999   97619.0     500\n",
       "\n",
       "[1728000 rows x 2 columns]"
      ]
     },
     "execution_count": 4,
     "metadata": {},
     "output_type": "execute_result"
    }
   ],
   "source": [
    "mortonCode"
   ]
  },
  {
   "cell_type": "code",
   "execution_count": 5,
   "id": "bd979143",
   "metadata": {},
   "outputs": [
    {
     "data": {
      "text/plain": [
       "numpy.int64"
      ]
     },
     "execution_count": 5,
     "metadata": {},
     "output_type": "execute_result"
    }
   ],
   "source": [
    "type(mortonCode['SUM'][0])\n",
    "type(mortonCode['FRAMES'][0])"
   ]
  },
  {
   "cell_type": "code",
   "execution_count": 6,
   "id": "c486e699",
   "metadata": {},
   "outputs": [],
   "source": [
    "#Vai criar um array qe vai ter como resultado Mortoncode[SUM][i]/Mortoncode[FRAMES][i]\n",
    "mortonCodeDiv=mortonCode['SUM']/mortonCode['FRAMES']\n",
    "hashMapDiv=hashMap['SUM']/hashMap['FRAMES']"
   ]
  },
  {
   "cell_type": "code",
   "execution_count": 7,
   "id": "eb844b66",
   "metadata": {},
   "outputs": [],
   "source": [
    "#Soma todos os resultados e divide pelo numero de particulas, assim temos a média por particula\n",
    "mortonCodeResult = mortonCodeDiv.sum()/mortonCodeDiv.size\n",
    "HashMapResult = hashMapDiv.sum()/hashMapDiv.size"
   ]
  },
  {
   "cell_type": "code",
   "execution_count": 8,
   "id": "7db303f3",
   "metadata": {},
   "outputs": [
    {
     "name": "stdout",
     "output_type": "stream",
     "text": [
      "Média da soma de distancia percurrida por cada particula ao comparar cada particula na densidade\n",
      "Quando a particula i vai para calcular a sua densidade, esta vai comparar com X número de outras particulas\n",
      "O resultado é a soma das distancias, distancia de indices dentro do buffer, de todas as particulas X que são vizinhas\n",
      "Exemplo: a particula A esta no indice 2 e tem 2 possiveis vizinhos B e C. B esta no indice 3 e é vizinho e C no indice 4 e não é vizinho. Assim o resultado seria 1 de distancia total\n",
      "Resultado Morton Code: 7108.3918543992995\n",
      "Resultado Hash Map: 396030.925162037\n"
     ]
    }
   ],
   "source": [
    "print(\"Média da soma de distancia percurrida por cada particula ao comparar cada particula na densidade\")\n",
    "print(\"Quando a particula i vai para calcular a sua densidade, esta vai comparar com X número de outras particulas\")\n",
    "print(\"O resultado é a soma das distancias, distancia de indices dentro do buffer, de todas as particulas X que são vizinhas\")\n",
    "print(\"Exemplo: a particula A esta no indice 2 e tem 2 possiveis vizinhos B e C. B esta no indice 3 e é vizinho e C no indice 4 e não é vizinho. Assim o resultado seria 1 de distancia total\")\n",
    "print(\"Resultado Morton Code:\",mortonCodeResult)\n",
    "print(\"Resultado Hash Map:\",HashMapResult)"
   ]
  },
  {
   "cell_type": "markdown",
   "id": "c644027a",
   "metadata": {},
   "source": [
    "# Assim podemos ver que no morton code, uma particula está, em média a 7109 indices de distancia da sua particula vizinha.\n",
    "# Em comparação com o Hash Map, temos uma distancia média de 396031 indices\n",
    "## Morton code tem uma média cerca de 55 vezes menor\n",
    "\n",
    "## Com isto podemos concluir que o morton code é muito mais provavel de tirar partido da cache da placa gráfica"
   ]
  },
  {
   "cell_type": "markdown",
   "id": "72e012f5",
   "metadata": {},
   "source": [
    "## Hash Map density 77 ms\n",
    "## Morton Code density 7 ms -> 11 vezes mais rápido"
   ]
  },
  {
   "cell_type": "code",
   "execution_count": null,
   "id": "7f009399",
   "metadata": {},
   "outputs": [],
   "source": []
  }
 ],
 "metadata": {
  "kernelspec": {
   "display_name": "Python 3",
   "language": "python",
   "name": "python3"
  },
  "language_info": {
   "codemirror_mode": {
    "name": "ipython",
    "version": 3
   },
   "file_extension": ".py",
   "mimetype": "text/x-python",
   "name": "python",
   "nbconvert_exporter": "python",
   "pygments_lexer": "ipython3",
   "version": "3.8.8"
  }
 },
 "nbformat": 4,
 "nbformat_minor": 5
}
