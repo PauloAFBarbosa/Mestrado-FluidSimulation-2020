{
 "cells": [
  {
   "cell_type": "markdown",
   "id": "593434f3",
   "metadata": {},
   "source": [
    "# Morton Code vs Hash map - Conta vizinhos e não vizinhos"
   ]
  },
  {
   "cell_type": "markdown",
   "id": "da39e707",
   "metadata": {},
   "source": [
    "#### No buffer debug foi gravada a distancia que é percorrida ao calcular a densidade, correndo todos os vizinhos\n",
    "#### Assim, se para a particula i (no indice 1) vamos vizitar as particulas A B e C e estas estão nos indices 3,4,5\n",
    "#### O buffer debug, vai guardar para a particula i uma distancia de 3+4+5 = 12"
   ]
  },
  {
   "cell_type": "markdown",
   "id": "a28f2dea",
   "metadata": {},
   "source": [
    "#### Este processo é feito por 500 frames e as distancias são todas somadas.\n",
    "#### Assim, vai se fazer uma média da distancia percorrida por particula nesses 500 frames."
   ]
  },
  {
   "cell_type": "code",
   "execution_count": 11,
   "id": "5e71664f",
   "metadata": {},
   "outputs": [],
   "source": [
    "import csv\n",
    "import pandas as pd"
   ]
  },
  {
   "cell_type": "code",
   "execution_count": 12,
   "id": "7d7523ac",
   "metadata": {},
   "outputs": [],
   "source": [
    "hashMap = pd.read_csv('data/HashMap_500frames.txt',sep=' ',usecols= ['SUM','FRAMES'])\n",
    "mortonCode = pd.read_csv('data/MortonCode_500frames.txt',sep=' ',usecols= ['SUM','FRAMES'])"
   ]
  },
  {
   "cell_type": "code",
   "execution_count": 13,
   "id": "31457cc1",
   "metadata": {},
   "outputs": [
    {
     "data": {
      "text/html": [
       "<div>\n",
       "<style scoped>\n",
       "    .dataframe tbody tr th:only-of-type {\n",
       "        vertical-align: middle;\n",
       "    }\n",
       "\n",
       "    .dataframe tbody tr th {\n",
       "        vertical-align: top;\n",
       "    }\n",
       "\n",
       "    .dataframe thead th {\n",
       "        text-align: right;\n",
       "    }\n",
       "</style>\n",
       "<table border=\"1\" class=\"dataframe\">\n",
       "  <thead>\n",
       "    <tr style=\"text-align: right;\">\n",
       "      <th></th>\n",
       "      <th>SUM</th>\n",
       "      <th>FRAMES</th>\n",
       "    </tr>\n",
       "  </thead>\n",
       "  <tbody>\n",
       "    <tr>\n",
       "      <th>0</th>\n",
       "      <td>1.350500e+12</td>\n",
       "      <td>500</td>\n",
       "    </tr>\n",
       "    <tr>\n",
       "      <th>1</th>\n",
       "      <td>1.337700e+12</td>\n",
       "      <td>500</td>\n",
       "    </tr>\n",
       "    <tr>\n",
       "      <th>2</th>\n",
       "      <td>1.350080e+12</td>\n",
       "      <td>500</td>\n",
       "    </tr>\n",
       "    <tr>\n",
       "      <th>3</th>\n",
       "      <td>1.335430e+12</td>\n",
       "      <td>500</td>\n",
       "    </tr>\n",
       "    <tr>\n",
       "      <th>4</th>\n",
       "      <td>1.331210e+12</td>\n",
       "      <td>500</td>\n",
       "    </tr>\n",
       "    <tr>\n",
       "      <th>...</th>\n",
       "      <td>...</td>\n",
       "      <td>...</td>\n",
       "    </tr>\n",
       "    <tr>\n",
       "      <th>1727995</th>\n",
       "      <td>9.490550e+11</td>\n",
       "      <td>500</td>\n",
       "    </tr>\n",
       "    <tr>\n",
       "      <th>1727996</th>\n",
       "      <td>9.465970e+11</td>\n",
       "      <td>500</td>\n",
       "    </tr>\n",
       "    <tr>\n",
       "      <th>1727997</th>\n",
       "      <td>9.447800e+11</td>\n",
       "      <td>500</td>\n",
       "    </tr>\n",
       "    <tr>\n",
       "      <th>1727998</th>\n",
       "      <td>9.429980e+11</td>\n",
       "      <td>500</td>\n",
       "    </tr>\n",
       "    <tr>\n",
       "      <th>1727999</th>\n",
       "      <td>9.570000e+11</td>\n",
       "      <td>500</td>\n",
       "    </tr>\n",
       "  </tbody>\n",
       "</table>\n",
       "<p>1728000 rows × 2 columns</p>\n",
       "</div>"
      ],
      "text/plain": [
       "                  SUM  FRAMES\n",
       "0        1.350500e+12     500\n",
       "1        1.337700e+12     500\n",
       "2        1.350080e+12     500\n",
       "3        1.335430e+12     500\n",
       "4        1.331210e+12     500\n",
       "...               ...     ...\n",
       "1727995  9.490550e+11     500\n",
       "1727996  9.465970e+11     500\n",
       "1727997  9.447800e+11     500\n",
       "1727998  9.429980e+11     500\n",
       "1727999  9.570000e+11     500\n",
       "\n",
       "[1728000 rows x 2 columns]"
      ]
     },
     "execution_count": 13,
     "metadata": {},
     "output_type": "execute_result"
    }
   ],
   "source": [
    "hashMap"
   ]
  },
  {
   "cell_type": "code",
   "execution_count": 14,
   "id": "7f5536ed",
   "metadata": {},
   "outputs": [
    {
     "data": {
      "text/html": [
       "<div>\n",
       "<style scoped>\n",
       "    .dataframe tbody tr th:only-of-type {\n",
       "        vertical-align: middle;\n",
       "    }\n",
       "\n",
       "    .dataframe tbody tr th {\n",
       "        vertical-align: top;\n",
       "    }\n",
       "\n",
       "    .dataframe thead th {\n",
       "        text-align: right;\n",
       "    }\n",
       "</style>\n",
       "<table border=\"1\" class=\"dataframe\">\n",
       "  <thead>\n",
       "    <tr style=\"text-align: right;\">\n",
       "      <th></th>\n",
       "      <th>SUM</th>\n",
       "      <th>FRAMES</th>\n",
       "    </tr>\n",
       "  </thead>\n",
       "  <tbody>\n",
       "    <tr>\n",
       "      <th>0</th>\n",
       "      <td>35215000.0</td>\n",
       "      <td>500</td>\n",
       "    </tr>\n",
       "    <tr>\n",
       "      <th>1</th>\n",
       "      <td>35092300.0</td>\n",
       "      <td>500</td>\n",
       "    </tr>\n",
       "    <tr>\n",
       "      <th>2</th>\n",
       "      <td>34995100.0</td>\n",
       "      <td>500</td>\n",
       "    </tr>\n",
       "    <tr>\n",
       "      <th>3</th>\n",
       "      <td>34844700.0</td>\n",
       "      <td>500</td>\n",
       "    </tr>\n",
       "    <tr>\n",
       "      <th>4</th>\n",
       "      <td>35502100.0</td>\n",
       "      <td>500</td>\n",
       "    </tr>\n",
       "    <tr>\n",
       "      <th>...</th>\n",
       "      <td>...</td>\n",
       "      <td>...</td>\n",
       "    </tr>\n",
       "    <tr>\n",
       "      <th>1727995</th>\n",
       "      <td>13764700.0</td>\n",
       "      <td>500</td>\n",
       "    </tr>\n",
       "    <tr>\n",
       "      <th>1727996</th>\n",
       "      <td>14229300.0</td>\n",
       "      <td>500</td>\n",
       "    </tr>\n",
       "    <tr>\n",
       "      <th>1727997</th>\n",
       "      <td>12319000.0</td>\n",
       "      <td>500</td>\n",
       "    </tr>\n",
       "    <tr>\n",
       "      <th>1727998</th>\n",
       "      <td>11182700.0</td>\n",
       "      <td>500</td>\n",
       "    </tr>\n",
       "    <tr>\n",
       "      <th>1727999</th>\n",
       "      <td>9212500.0</td>\n",
       "      <td>500</td>\n",
       "    </tr>\n",
       "  </tbody>\n",
       "</table>\n",
       "<p>1728000 rows × 2 columns</p>\n",
       "</div>"
      ],
      "text/plain": [
       "                SUM  FRAMES\n",
       "0        35215000.0     500\n",
       "1        35092300.0     500\n",
       "2        34995100.0     500\n",
       "3        34844700.0     500\n",
       "4        35502100.0     500\n",
       "...             ...     ...\n",
       "1727995  13764700.0     500\n",
       "1727996  14229300.0     500\n",
       "1727997  12319000.0     500\n",
       "1727998  11182700.0     500\n",
       "1727999   9212500.0     500\n",
       "\n",
       "[1728000 rows x 2 columns]"
      ]
     },
     "execution_count": 14,
     "metadata": {},
     "output_type": "execute_result"
    }
   ],
   "source": [
    "mortonCode"
   ]
  },
  {
   "cell_type": "code",
   "execution_count": 15,
   "id": "bd979143",
   "metadata": {},
   "outputs": [
    {
     "data": {
      "text/plain": [
       "numpy.int64"
      ]
     },
     "execution_count": 15,
     "metadata": {},
     "output_type": "execute_result"
    }
   ],
   "source": [
    "type(mortonCode['SUM'][0])\n",
    "type(mortonCode['FRAMES'][0])"
   ]
  },
  {
   "cell_type": "code",
   "execution_count": 23,
   "id": "c486e699",
   "metadata": {},
   "outputs": [],
   "source": [
    "#Vai criar um array qe vai ter como resultado Mortoncode[SUM][i]/Mortoncode[FRAMES][i]\n",
    "mortonCodeDiv=mortonCode['SUM']/mortonCode['FRAMES']\n",
    "hashMapDiv=hashMap['SUM']/hashMap['FRAMES']"
   ]
  },
  {
   "cell_type": "code",
   "execution_count": 24,
   "id": "eb844b66",
   "metadata": {},
   "outputs": [],
   "source": [
    "#Soma todos os resultados e divide pelo numero de particulas, assim temos a média por particula\n",
    "mortonCodeResult = mortonCodeDiv.sum()/mortonCodeDiv.size\n",
    "HashMapResult = hashMapDiv.sum()/hashMapDiv.size"
   ]
  },
  {
   "cell_type": "code",
   "execution_count": 29,
   "id": "7db303f3",
   "metadata": {},
   "outputs": [
    {
     "name": "stdout",
     "output_type": "stream",
     "text": [
      "Média da soma de distancia percurrida por cada particula ao comparar cada particula na densidade\n",
      "Quando a particula i vai para calcular a sua densidade, esta vai comparar com X número de outras particulas\n",
      "O resultado é a soma das distancias, distancia de indices dentro do buffer, de todas as particulas X\n",
      "Exemplo: a particula A esta no indice 2 e tem 2 possiveis vizinhos B e C. B esta no indice 3 e é vizinho e C no indice 4 e não é vizinho.\n",
      "Resultado Morton Code: 5533151.797830903\n",
      "Resultado Hash Map: 1471244453.8414352\n"
     ]
    }
   ],
   "source": [
    "print(\"Média da soma de distancia percurrida por cada particula ao comparar cada particula na densidade\")\n",
    "print(\"Quando a particula i vai para calcular a sua densidade, esta vai comparar com X número de outras particulas\")\n",
    "print(\"O resultado é a soma das distancias, distancia de indices dentro do buffer, de todas as particulas X\")\n",
    "print(\"Exemplo: a particula A esta no indice 2 e tem 2 possiveis vizinhos B e C. B esta no indice 3 e é vizinho e C no indice 4 e não é vizinho. Assim o resultado seria 3 de distancia tot\")\n",
    "print(\"Resultado Morton Code:\",mortonCodeResult)\n",
    "print(\"Resultado Hash Map:\",HashMapResult)"
   ]
  },
  {
   "cell_type": "code",
   "execution_count": null,
   "id": "af48d0a7",
   "metadata": {},
   "outputs": [],
   "source": []
  }
 ],
 "metadata": {
  "kernelspec": {
   "display_name": "Python 3",
   "language": "python",
   "name": "python3"
  },
  "language_info": {
   "codemirror_mode": {
    "name": "ipython",
    "version": 3
   },
   "file_extension": ".py",
   "mimetype": "text/x-python",
   "name": "python",
   "nbconvert_exporter": "python",
   "pygments_lexer": "ipython3",
   "version": "3.8.8"
  }
 },
 "nbformat": 4,
 "nbformat_minor": 5
}
