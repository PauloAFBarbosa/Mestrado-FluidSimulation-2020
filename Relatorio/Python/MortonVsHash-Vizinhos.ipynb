{
 "cells": [
  {
   "cell_type": "markdown",
   "id": "593434f3",
   "metadata": {},
   "source": [
    "# Morton Code vs Hash map - Conta apenas vizinhos"
   ]
  },
  {
   "cell_type": "markdown",
   "id": "da39e707",
   "metadata": {},
   "source": [
    "#### No buffer debug foi gravada a distancia que é percorrida ao calcular a densidade, correndo todos os vizinhos\n",
    "#### Assim, se para a particula i (no indice 1) vamos vizitar as particulas A B e C e estas estão nos indices 3,4,5\n",
    "#### O buffer debug, vai guardar para a particula i uma distancia de 3+4+5 = 12 (no caso de A B e C serem vizinhos)"
   ]
  },
  {
   "cell_type": "markdown",
   "id": "a28f2dea",
   "metadata": {},
   "source": [
    "#### Este processo é feito por 500 frames e as distancias são todas somadas.\n",
    "#### Assim, vai se fazer uma média da distancia percorrida por particula nesses 500 frames."
   ]
  },
  {
   "cell_type": "code",
   "execution_count": 1,
   "id": "5e71664f",
   "metadata": {},
   "outputs": [],
   "source": [
    "import csv\n",
    "import pandas as pd"
   ]
  },
  {
   "cell_type": "code",
   "execution_count": 2,
   "id": "7d7523ac",
   "metadata": {},
   "outputs": [],
   "source": [
    "hashMap = pd.read_csv('data/HashMap_500Frames_Vizinhos.txt',sep=' ',usecols= ['SUM','FRAMES'])\n",
    "mortonCode = pd.read_csv('data/MortonCode_500Frames_Vizinhos.txt',sep=' ',usecols= ['SUM','FRAMES'])"
   ]
  },
  {
   "cell_type": "code",
   "execution_count": 3,
   "id": "31457cc1",
   "metadata": {},
   "outputs": [
    {
     "data": {
      "text/html": [
       "<div>\n",
       "<style scoped>\n",
       "    .dataframe tbody tr th:only-of-type {\n",
       "        vertical-align: middle;\n",
       "    }\n",
       "\n",
       "    .dataframe tbody tr th {\n",
       "        vertical-align: top;\n",
       "    }\n",
       "\n",
       "    .dataframe thead th {\n",
       "        text-align: right;\n",
       "    }\n",
       "</style>\n",
       "<table border=\"1\" class=\"dataframe\">\n",
       "  <thead>\n",
       "    <tr style=\"text-align: right;\">\n",
       "      <th></th>\n",
       "      <th>SUM</th>\n",
       "      <th>FRAMES</th>\n",
       "    </tr>\n",
       "  </thead>\n",
       "  <tbody>\n",
       "    <tr>\n",
       "      <th>0</th>\n",
       "      <td>2.923290e+10</td>\n",
       "      <td>500</td>\n",
       "    </tr>\n",
       "    <tr>\n",
       "      <th>1</th>\n",
       "      <td>2.913540e+10</td>\n",
       "      <td>500</td>\n",
       "    </tr>\n",
       "    <tr>\n",
       "      <th>2</th>\n",
       "      <td>2.906250e+10</td>\n",
       "      <td>500</td>\n",
       "    </tr>\n",
       "    <tr>\n",
       "      <th>3</th>\n",
       "      <td>2.978050e+10</td>\n",
       "      <td>500</td>\n",
       "    </tr>\n",
       "    <tr>\n",
       "      <th>4</th>\n",
       "      <td>2.878480e+10</td>\n",
       "      <td>500</td>\n",
       "    </tr>\n",
       "    <tr>\n",
       "      <th>...</th>\n",
       "      <td>...</td>\n",
       "      <td>...</td>\n",
       "    </tr>\n",
       "    <tr>\n",
       "      <th>1727995</th>\n",
       "      <td>1.390500e+10</td>\n",
       "      <td>500</td>\n",
       "    </tr>\n",
       "    <tr>\n",
       "      <th>1727996</th>\n",
       "      <td>1.420350e+10</td>\n",
       "      <td>500</td>\n",
       "    </tr>\n",
       "    <tr>\n",
       "      <th>1727997</th>\n",
       "      <td>1.399810e+10</td>\n",
       "      <td>500</td>\n",
       "    </tr>\n",
       "    <tr>\n",
       "      <th>1727998</th>\n",
       "      <td>1.458880e+10</td>\n",
       "      <td>500</td>\n",
       "    </tr>\n",
       "    <tr>\n",
       "      <th>1727999</th>\n",
       "      <td>1.411420e+10</td>\n",
       "      <td>500</td>\n",
       "    </tr>\n",
       "  </tbody>\n",
       "</table>\n",
       "<p>1728000 rows × 2 columns</p>\n",
       "</div>"
      ],
      "text/plain": [
       "                  SUM  FRAMES\n",
       "0        2.923290e+10     500\n",
       "1        2.913540e+10     500\n",
       "2        2.906250e+10     500\n",
       "3        2.978050e+10     500\n",
       "4        2.878480e+10     500\n",
       "...               ...     ...\n",
       "1727995  1.390500e+10     500\n",
       "1727996  1.420350e+10     500\n",
       "1727997  1.399810e+10     500\n",
       "1727998  1.458880e+10     500\n",
       "1727999  1.411420e+10     500\n",
       "\n",
       "[1728000 rows x 2 columns]"
      ]
     },
     "execution_count": 3,
     "metadata": {},
     "output_type": "execute_result"
    }
   ],
   "source": [
    "hashMap"
   ]
  },
  {
   "cell_type": "code",
   "execution_count": 4,
   "id": "7f5536ed",
   "metadata": {},
   "outputs": [
    {
     "data": {
      "text/html": [
       "<div>\n",
       "<style scoped>\n",
       "    .dataframe tbody tr th:only-of-type {\n",
       "        vertical-align: middle;\n",
       "    }\n",
       "\n",
       "    .dataframe tbody tr th {\n",
       "        vertical-align: top;\n",
       "    }\n",
       "\n",
       "    .dataframe thead th {\n",
       "        text-align: right;\n",
       "    }\n",
       "</style>\n",
       "<table border=\"1\" class=\"dataframe\">\n",
       "  <thead>\n",
       "    <tr style=\"text-align: right;\">\n",
       "      <th></th>\n",
       "      <th>SUM</th>\n",
       "      <th>FRAMES</th>\n",
       "    </tr>\n",
       "  </thead>\n",
       "  <tbody>\n",
       "    <tr>\n",
       "      <th>0</th>\n",
       "      <td>2861900.0</td>\n",
       "      <td>500</td>\n",
       "    </tr>\n",
       "    <tr>\n",
       "      <th>1</th>\n",
       "      <td>2054030.0</td>\n",
       "      <td>500</td>\n",
       "    </tr>\n",
       "    <tr>\n",
       "      <th>2</th>\n",
       "      <td>1902330.0</td>\n",
       "      <td>500</td>\n",
       "    </tr>\n",
       "    <tr>\n",
       "      <th>3</th>\n",
       "      <td>1790440.0</td>\n",
       "      <td>500</td>\n",
       "    </tr>\n",
       "    <tr>\n",
       "      <th>4</th>\n",
       "      <td>1820530.0</td>\n",
       "      <td>500</td>\n",
       "    </tr>\n",
       "    <tr>\n",
       "      <th>...</th>\n",
       "      <td>...</td>\n",
       "      <td>...</td>\n",
       "    </tr>\n",
       "    <tr>\n",
       "      <th>1727995</th>\n",
       "      <td>2345730.0</td>\n",
       "      <td>500</td>\n",
       "    </tr>\n",
       "    <tr>\n",
       "      <th>1727996</th>\n",
       "      <td>2888270.0</td>\n",
       "      <td>500</td>\n",
       "    </tr>\n",
       "    <tr>\n",
       "      <th>1727997</th>\n",
       "      <td>2184580.0</td>\n",
       "      <td>500</td>\n",
       "    </tr>\n",
       "    <tr>\n",
       "      <th>1727998</th>\n",
       "      <td>2167170.0</td>\n",
       "      <td>500</td>\n",
       "    </tr>\n",
       "    <tr>\n",
       "      <th>1727999</th>\n",
       "      <td>1871980.0</td>\n",
       "      <td>500</td>\n",
       "    </tr>\n",
       "  </tbody>\n",
       "</table>\n",
       "<p>1728000 rows × 2 columns</p>\n",
       "</div>"
      ],
      "text/plain": [
       "               SUM  FRAMES\n",
       "0        2861900.0     500\n",
       "1        2054030.0     500\n",
       "2        1902330.0     500\n",
       "3        1790440.0     500\n",
       "4        1820530.0     500\n",
       "...            ...     ...\n",
       "1727995  2345730.0     500\n",
       "1727996  2888270.0     500\n",
       "1727997  2184580.0     500\n",
       "1727998  2167170.0     500\n",
       "1727999  1871980.0     500\n",
       "\n",
       "[1728000 rows x 2 columns]"
      ]
     },
     "execution_count": 4,
     "metadata": {},
     "output_type": "execute_result"
    }
   ],
   "source": [
    "mortonCode"
   ]
  },
  {
   "cell_type": "code",
   "execution_count": 5,
   "id": "bd979143",
   "metadata": {},
   "outputs": [
    {
     "data": {
      "text/plain": [
       "numpy.int64"
      ]
     },
     "execution_count": 5,
     "metadata": {},
     "output_type": "execute_result"
    }
   ],
   "source": [
    "type(mortonCode['SUM'][0])\n",
    "type(mortonCode['FRAMES'][0])"
   ]
  },
  {
   "cell_type": "code",
   "execution_count": 6,
   "id": "c486e699",
   "metadata": {},
   "outputs": [],
   "source": [
    "#Vai criar um array qe vai ter como resultado Mortoncode[SUM][i]/Mortoncode[FRAMES][i]\n",
    "mortonCodeDiv=mortonCode['SUM']/mortonCode['FRAMES']\n",
    "hashMapDiv=hashMap['SUM']/hashMap['FRAMES']"
   ]
  },
  {
   "cell_type": "code",
   "execution_count": 7,
   "id": "eb844b66",
   "metadata": {},
   "outputs": [],
   "source": [
    "#Soma todos os resultados e divide pelo numero de particulas, assim temos a média por particula\n",
    "mortonCodeResult = mortonCodeDiv.sum()/mortonCodeDiv.size\n",
    "HashMapResult = hashMapDiv.sum()/hashMapDiv.size"
   ]
  },
  {
   "cell_type": "code",
   "execution_count": 8,
   "id": "7db303f3",
   "metadata": {},
   "outputs": [
    {
     "name": "stdout",
     "output_type": "stream",
     "text": [
      "Média da soma de distancia percurrida por cada particula ao comparar cada particula na densidade\n",
      "Quando a particula i vai para calcular a sua densidade, esta vai comparar com X número de outras particulas\n",
      "O resultado é a soma das distancias, distancia de indices dentro do buffer, de todas as particulas X que são vizinhas\n",
      "Exemplo: a particula A esta no indice 2 e tem 2 possiveis vizinhos B e C. B esta no indice 3 e é vizinho e C no indice 4 e não é vizinho. Assim o resultado seria 1 de distancia total\n",
      "Resultado Morton Code: 448870.4626553124\n",
      "Resultado Hash Map: 24460160.19497685\n"
     ]
    }
   ],
   "source": [
    "print(\"Média da soma de distancia percurrida por cada particula ao comparar cada particula na densidade\")\n",
    "print(\"Quando a particula i vai para calcular a sua densidade, esta vai comparar com X número de outras particulas\")\n",
    "print(\"O resultado é a soma das distancias, distancia de indices dentro do buffer, de todas as particulas X que são vizinhas\")\n",
    "print(\"Exemplo: a particula A esta no indice 2 e tem 2 possiveis vizinhos B e C. B esta no indice 3 e é vizinho e C no indice 4 e não é vizinho. Assim o resultado seria 1 de distancia total\")\n",
    "print(\"Resultado Morton Code:\",mortonCodeResult)\n",
    "print(\"Resultado Hash Map:\",HashMapResult)"
   ]
  },
  {
   "cell_type": "code",
   "execution_count": null,
   "id": "af48d0a7",
   "metadata": {},
   "outputs": [],
   "source": []
  }
 ],
 "metadata": {
  "kernelspec": {
   "display_name": "Python 3",
   "language": "python",
   "name": "python3"
  },
  "language_info": {
   "codemirror_mode": {
    "name": "ipython",
    "version": 3
   },
   "file_extension": ".py",
   "mimetype": "text/x-python",
   "name": "python",
   "nbconvert_exporter": "python",
   "pygments_lexer": "ipython3",
   "version": "3.8.8"
  }
 },
 "nbformat": 4,
 "nbformat_minor": 5
}
