{
 "cells": [
  {
   "cell_type": "markdown",
   "id": "44db4083",
   "metadata": {},
   "source": [
    "# Morton Code vs Hash map - Conta apenas vizinhos e Normalizado"
   ]
  },
  {
   "cell_type": "markdown",
   "id": "0f620e40",
   "metadata": {},
   "source": [
    "## Vai medir a distancia da particula A até B depois a da particula B até C. Em vez de comprar todas as distancias com a particula principal"
   ]
  },
  {
   "cell_type": "code",
   "execution_count": 1,
   "id": "3ebbccf7",
   "metadata": {},
   "outputs": [],
   "source": [
    "import csv\n",
    "import pandas as pd"
   ]
  },
  {
   "cell_type": "code",
   "execution_count": 2,
   "id": "30247099",
   "metadata": {},
   "outputs": [],
   "source": [
    "hashMap = pd.read_csv('data/HashMap_500Frames_Tras_dist_entre_particulas.txt',sep=' ',usecols= ['SUM','FRAMES','BACK'])\n",
    "mortonCode = pd.read_csv('data/MortonCode_500Frames_Tras_dist_entre_particulas.txt',sep=' ',usecols= ['SUM','FRAMES','BACK'])"
   ]
  },
  {
   "cell_type": "code",
   "execution_count": 3,
   "id": "4b014f97",
   "metadata": {},
   "outputs": [
    {
     "data": {
      "text/html": [
       "<div>\n",
       "<style scoped>\n",
       "    .dataframe tbody tr th:only-of-type {\n",
       "        vertical-align: middle;\n",
       "    }\n",
       "\n",
       "    .dataframe tbody tr th {\n",
       "        vertical-align: top;\n",
       "    }\n",
       "\n",
       "    .dataframe thead th {\n",
       "        text-align: right;\n",
       "    }\n",
       "</style>\n",
       "<table border=\"1\" class=\"dataframe\">\n",
       "  <thead>\n",
       "    <tr style=\"text-align: right;\">\n",
       "      <th></th>\n",
       "      <th>SUM</th>\n",
       "      <th>FRAMES</th>\n",
       "      <th>BACK</th>\n",
       "    </tr>\n",
       "  </thead>\n",
       "  <tbody>\n",
       "    <tr>\n",
       "      <th>0</th>\n",
       "      <td>54875500.0</td>\n",
       "      <td>500</td>\n",
       "      <td>2802</td>\n",
       "    </tr>\n",
       "    <tr>\n",
       "      <th>1</th>\n",
       "      <td>53777400.0</td>\n",
       "      <td>500</td>\n",
       "      <td>3023</td>\n",
       "    </tr>\n",
       "    <tr>\n",
       "      <th>2</th>\n",
       "      <td>51923200.0</td>\n",
       "      <td>500</td>\n",
       "      <td>3045</td>\n",
       "    </tr>\n",
       "    <tr>\n",
       "      <th>3</th>\n",
       "      <td>51451800.0</td>\n",
       "      <td>500</td>\n",
       "      <td>3107</td>\n",
       "    </tr>\n",
       "    <tr>\n",
       "      <th>4</th>\n",
       "      <td>51720800.0</td>\n",
       "      <td>500</td>\n",
       "      <td>3194</td>\n",
       "    </tr>\n",
       "    <tr>\n",
       "      <th>...</th>\n",
       "      <td>...</td>\n",
       "      <td>...</td>\n",
       "      <td>...</td>\n",
       "    </tr>\n",
       "    <tr>\n",
       "      <th>1727995</th>\n",
       "      <td>76008200.0</td>\n",
       "      <td>500</td>\n",
       "      <td>2784</td>\n",
       "    </tr>\n",
       "    <tr>\n",
       "      <th>1727996</th>\n",
       "      <td>81559700.0</td>\n",
       "      <td>500</td>\n",
       "      <td>2959</td>\n",
       "    </tr>\n",
       "    <tr>\n",
       "      <th>1727997</th>\n",
       "      <td>79615700.0</td>\n",
       "      <td>500</td>\n",
       "      <td>2871</td>\n",
       "    </tr>\n",
       "    <tr>\n",
       "      <th>1727998</th>\n",
       "      <td>77341800.0</td>\n",
       "      <td>500</td>\n",
       "      <td>2917</td>\n",
       "    </tr>\n",
       "    <tr>\n",
       "      <th>1727999</th>\n",
       "      <td>80570000.0</td>\n",
       "      <td>500</td>\n",
       "      <td>2876</td>\n",
       "    </tr>\n",
       "  </tbody>\n",
       "</table>\n",
       "<p>1728000 rows × 3 columns</p>\n",
       "</div>"
      ],
      "text/plain": [
       "                SUM  FRAMES  BACK\n",
       "0        54875500.0     500  2802\n",
       "1        53777400.0     500  3023\n",
       "2        51923200.0     500  3045\n",
       "3        51451800.0     500  3107\n",
       "4        51720800.0     500  3194\n",
       "...             ...     ...   ...\n",
       "1727995  76008200.0     500  2784\n",
       "1727996  81559700.0     500  2959\n",
       "1727997  79615700.0     500  2871\n",
       "1727998  77341800.0     500  2917\n",
       "1727999  80570000.0     500  2876\n",
       "\n",
       "[1728000 rows x 3 columns]"
      ]
     },
     "execution_count": 3,
     "metadata": {},
     "output_type": "execute_result"
    }
   ],
   "source": [
    "hashMap"
   ]
  },
  {
   "cell_type": "code",
   "execution_count": 4,
   "id": "553d955d",
   "metadata": {},
   "outputs": [
    {
     "data": {
      "text/html": [
       "<div>\n",
       "<style scoped>\n",
       "    .dataframe tbody tr th:only-of-type {\n",
       "        vertical-align: middle;\n",
       "    }\n",
       "\n",
       "    .dataframe tbody tr th {\n",
       "        vertical-align: top;\n",
       "    }\n",
       "\n",
       "    .dataframe thead th {\n",
       "        text-align: right;\n",
       "    }\n",
       "</style>\n",
       "<table border=\"1\" class=\"dataframe\">\n",
       "  <thead>\n",
       "    <tr style=\"text-align: right;\">\n",
       "      <th></th>\n",
       "      <th>SUM</th>\n",
       "      <th>FRAMES</th>\n",
       "      <th>BACK</th>\n",
       "    </tr>\n",
       "  </thead>\n",
       "  <tbody>\n",
       "    <tr>\n",
       "      <th>0</th>\n",
       "      <td>7417.09</td>\n",
       "      <td>500</td>\n",
       "      <td>62</td>\n",
       "    </tr>\n",
       "    <tr>\n",
       "      <th>1</th>\n",
       "      <td>6513.67</td>\n",
       "      <td>500</td>\n",
       "      <td>469</td>\n",
       "    </tr>\n",
       "    <tr>\n",
       "      <th>2</th>\n",
       "      <td>6907.50</td>\n",
       "      <td>500</td>\n",
       "      <td>492</td>\n",
       "    </tr>\n",
       "    <tr>\n",
       "      <th>3</th>\n",
       "      <td>5702.21</td>\n",
       "      <td>500</td>\n",
       "      <td>514</td>\n",
       "    </tr>\n",
       "    <tr>\n",
       "      <th>4</th>\n",
       "      <td>5085.57</td>\n",
       "      <td>500</td>\n",
       "      <td>527</td>\n",
       "    </tr>\n",
       "    <tr>\n",
       "      <th>...</th>\n",
       "      <td>...</td>\n",
       "      <td>...</td>\n",
       "      <td>...</td>\n",
       "    </tr>\n",
       "    <tr>\n",
       "      <th>1727995</th>\n",
       "      <td>84484.90</td>\n",
       "      <td>500</td>\n",
       "      <td>1341</td>\n",
       "    </tr>\n",
       "    <tr>\n",
       "      <th>1727996</th>\n",
       "      <td>86643.60</td>\n",
       "      <td>500</td>\n",
       "      <td>1330</td>\n",
       "    </tr>\n",
       "    <tr>\n",
       "      <th>1727997</th>\n",
       "      <td>79282.60</td>\n",
       "      <td>500</td>\n",
       "      <td>1355</td>\n",
       "    </tr>\n",
       "    <tr>\n",
       "      <th>1727998</th>\n",
       "      <td>70164.90</td>\n",
       "      <td>500</td>\n",
       "      <td>1282</td>\n",
       "    </tr>\n",
       "    <tr>\n",
       "      <th>1727999</th>\n",
       "      <td>62714.60</td>\n",
       "      <td>500</td>\n",
       "      <td>1202</td>\n",
       "    </tr>\n",
       "  </tbody>\n",
       "</table>\n",
       "<p>1728000 rows × 3 columns</p>\n",
       "</div>"
      ],
      "text/plain": [
       "              SUM  FRAMES  BACK\n",
       "0         7417.09     500    62\n",
       "1         6513.67     500   469\n",
       "2         6907.50     500   492\n",
       "3         5702.21     500   514\n",
       "4         5085.57     500   527\n",
       "...           ...     ...   ...\n",
       "1727995  84484.90     500  1341\n",
       "1727996  86643.60     500  1330\n",
       "1727997  79282.60     500  1355\n",
       "1727998  70164.90     500  1282\n",
       "1727999  62714.60     500  1202\n",
       "\n",
       "[1728000 rows x 3 columns]"
      ]
     },
     "execution_count": 4,
     "metadata": {},
     "output_type": "execute_result"
    }
   ],
   "source": [
    "mortonCode"
   ]
  },
  {
   "cell_type": "code",
   "execution_count": 5,
   "id": "7003c2ce",
   "metadata": {},
   "outputs": [
    {
     "data": {
      "text/plain": [
       "numpy.int64"
      ]
     },
     "execution_count": 5,
     "metadata": {},
     "output_type": "execute_result"
    }
   ],
   "source": [
    "type(mortonCode['SUM'][0])\n",
    "type(mortonCode['FRAMES'][0])"
   ]
  },
  {
   "cell_type": "code",
   "execution_count": 6,
   "id": "8191e40e",
   "metadata": {},
   "outputs": [],
   "source": [
    "#Vai criar um array qe vai ter como resultado Mortoncode[SUM][i]/Mortoncode[FRAMES][i]\n",
    "mortonCodeDiv=mortonCode['SUM']/mortonCode['FRAMES']\n",
    "mortonCodeDivBack=mortonCode['BACK']/mortonCode['FRAMES']\n",
    "\n",
    "hashMapDiv=hashMap['SUM']/hashMap['FRAMES']\n",
    "hashMapDivBack=hashMap['BACK']/hashMap['FRAMES']"
   ]
  },
  {
   "cell_type": "code",
   "execution_count": 7,
   "id": "6187d253",
   "metadata": {},
   "outputs": [],
   "source": [
    "#Soma todos os resultados e divide pelo numero de particulas, assim temos a média por particula\n",
    "mortonCodeResult = mortonCodeDiv.sum()/mortonCodeDiv.size\n",
    "mortonCodeResultBack = mortonCodeDivBack.sum()/mortonCodeDivBack.size\n",
    "HashMapResult = hashMapDiv.sum()/hashMapDiv.size\n",
    "HashMapResultBack = hashMapDivBack.sum()/hashMapDivBack.size"
   ]
  },
  {
   "cell_type": "code",
   "execution_count": 8,
   "id": "2052fb47",
   "metadata": {},
   "outputs": [
    {
     "name": "stdout",
     "output_type": "stream",
     "text": [
      "Média da soma de distancias das particulas. Distancia da particula A até B, distancia de B ate C ...\n",
      "Quando a particula i vai para calcular a sua densidade, esta vai comparar com X número de outras particulas\n",
      "O resultado é a soma das distancias, distancia de indices dentro do buffer, de todas as particulas X que são vizinhas\n",
      "---------\n",
      "Resultado Morton Code:\n",
      "Média de distancia: 2450.8893727437276 Média de vezes que anda para tras: 3.1866168078703705\n",
      "---------\n",
      "Resultado Hash Map:\n",
      "Média de distancia: 122449.62767187503 Média de vezes que anda para tras: 6.14353409027778\n"
     ]
    }
   ],
   "source": [
    "print(\"Média da soma de distancias das particulas. Distancia da particula A até B, distancia de B ate C ...\")\n",
    "print(\"Quando a particula i vai para calcular a sua densidade, esta vai comparar com X número de outras particulas\")\n",
    "print(\"O resultado é a soma das distancias, distancia de indices dentro do buffer, de todas as particulas X que são vizinhas\")\n",
    "print(\"---------\")\n",
    "print(\"Resultado Morton Code:\")\n",
    "print(\"Média de distancia:\",mortonCodeResult,\"Média de vezes que anda para tras:\",mortonCodeResultBack)\n",
    "print(\"---------\")\n",
    "print(\"Resultado Hash Map:\")\n",
    "print(\"Média de distancia:\",HashMapResult,\"Média de vezes que anda para tras:\",HashMapResultBack)"
   ]
  },
  {
   "cell_type": "markdown",
   "id": "db256cee",
   "metadata": {},
   "source": [
    "### Andar para trás é importante, pois, normalmente a cache só trás dados que estão \"a frente\". Assim, sempre que se volta para trás é normal haver cache misses\n",
    "#### Por exemplo: vamos consultar o index 9 e para a cahce trazem o index 10,11,12,13. Se o proximo index a ver for o index 2, podemos ver que os valores da cache são inuteis"
   ]
  },
  {
   "cell_type": "code",
   "execution_count": null,
   "id": "f4bba28b",
   "metadata": {},
   "outputs": [],
   "source": []
  }
 ],
 "metadata": {
  "kernelspec": {
   "display_name": "Python 3",
   "language": "python",
   "name": "python3"
  },
  "language_info": {
   "codemirror_mode": {
    "name": "ipython",
    "version": 3
   },
   "file_extension": ".py",
   "mimetype": "text/x-python",
   "name": "python",
   "nbconvert_exporter": "python",
   "pygments_lexer": "ipython3",
   "version": "3.8.8"
  }
 },
 "nbformat": 4,
 "nbformat_minor": 5
}
