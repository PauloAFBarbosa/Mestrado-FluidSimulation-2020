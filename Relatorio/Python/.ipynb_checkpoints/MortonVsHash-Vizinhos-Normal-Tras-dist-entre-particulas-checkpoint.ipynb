{
 "cells": [
  {
   "cell_type": "markdown",
   "metadata": {},
   "source": [
    "# Morton Code vs Hash map - Conta apenas vizinhos e Normalizado"
   ]
  },
  {
   "cell_type": "markdown",
   "metadata": {},
   "source": [
    "## Vai medir a distancia da particula A até B depois a da particula B até C. Em vez de comprar todas as distancias com a particula principal"
   ]
  },
  {
   "cell_type": "markdown",
   "metadata": {},
   "source": [
    "# Atenção. O ficheiro do hashmap tem apenas 1 milhão de particulas, o do Morton code tem 1 milhão e 700 mil.\n",
    "# Criar o ficheiro depois com 1 milhão e 700 mil "
   ]
  },
  {
   "cell_type": "code",
   "execution_count": 1,
   "metadata": {},
   "outputs": [],
   "source": [
    "import csv\n",
    "import pandas as pd"
   ]
  },
  {
   "cell_type": "code",
   "execution_count": 2,
   "metadata": {},
   "outputs": [],
   "source": [
    "hashMap = pd.read_csv('data/HashMap_500Frames_Tras_dist_entre_particulas.txt',sep=' ',usecols= ['SUM','FRAMES','BACK'])\n",
    "mortonCode = pd.read_csv('data/MortonCode_500Frames_Tras_dist_entre_particulas.txt',sep=' ',usecols= ['SUM','FRAMES','BACK'])"
   ]
  },
  {
   "cell_type": "code",
   "execution_count": 3,
   "metadata": {},
   "outputs": [
    {
     "data": {
      "text/html": [
       "<div>\n",
       "<style scoped>\n",
       "    .dataframe tbody tr th:only-of-type {\n",
       "        vertical-align: middle;\n",
       "    }\n",
       "\n",
       "    .dataframe tbody tr th {\n",
       "        vertical-align: top;\n",
       "    }\n",
       "\n",
       "    .dataframe thead th {\n",
       "        text-align: right;\n",
       "    }\n",
       "</style>\n",
       "<table border=\"1\" class=\"dataframe\">\n",
       "  <thead>\n",
       "    <tr style=\"text-align: right;\">\n",
       "      <th></th>\n",
       "      <th>SUM</th>\n",
       "      <th>FRAMES</th>\n",
       "      <th>BACK</th>\n",
       "    </tr>\n",
       "  </thead>\n",
       "  <tbody>\n",
       "    <tr>\n",
       "      <td>0</td>\n",
       "      <td>36063700.0</td>\n",
       "      <td>500</td>\n",
       "      <td>2560</td>\n",
       "    </tr>\n",
       "    <tr>\n",
       "      <td>1</td>\n",
       "      <td>33743100.0</td>\n",
       "      <td>500</td>\n",
       "      <td>2882</td>\n",
       "    </tr>\n",
       "    <tr>\n",
       "      <td>2</td>\n",
       "      <td>33326100.0</td>\n",
       "      <td>500</td>\n",
       "      <td>3029</td>\n",
       "    </tr>\n",
       "    <tr>\n",
       "      <td>3</td>\n",
       "      <td>35578900.0</td>\n",
       "      <td>500</td>\n",
       "      <td>3113</td>\n",
       "    </tr>\n",
       "    <tr>\n",
       "      <td>4</td>\n",
       "      <td>34504400.0</td>\n",
       "      <td>500</td>\n",
       "      <td>3102</td>\n",
       "    </tr>\n",
       "    <tr>\n",
       "      <td>...</td>\n",
       "      <td>...</td>\n",
       "      <td>...</td>\n",
       "      <td>...</td>\n",
       "    </tr>\n",
       "    <tr>\n",
       "      <td>999995</td>\n",
       "      <td>46038900.0</td>\n",
       "      <td>500</td>\n",
       "      <td>2695</td>\n",
       "    </tr>\n",
       "    <tr>\n",
       "      <td>999996</td>\n",
       "      <td>45045100.0</td>\n",
       "      <td>500</td>\n",
       "      <td>2636</td>\n",
       "    </tr>\n",
       "    <tr>\n",
       "      <td>999997</td>\n",
       "      <td>47887800.0</td>\n",
       "      <td>500</td>\n",
       "      <td>2677</td>\n",
       "    </tr>\n",
       "    <tr>\n",
       "      <td>999998</td>\n",
       "      <td>49233400.0</td>\n",
       "      <td>500</td>\n",
       "      <td>2732</td>\n",
       "    </tr>\n",
       "    <tr>\n",
       "      <td>999999</td>\n",
       "      <td>48457300.0</td>\n",
       "      <td>500</td>\n",
       "      <td>2683</td>\n",
       "    </tr>\n",
       "  </tbody>\n",
       "</table>\n",
       "<p>1000000 rows × 3 columns</p>\n",
       "</div>"
      ],
      "text/plain": [
       "               SUM  FRAMES  BACK\n",
       "0       36063700.0     500  2560\n",
       "1       33743100.0     500  2882\n",
       "2       33326100.0     500  3029\n",
       "3       35578900.0     500  3113\n",
       "4       34504400.0     500  3102\n",
       "...            ...     ...   ...\n",
       "999995  46038900.0     500  2695\n",
       "999996  45045100.0     500  2636\n",
       "999997  47887800.0     500  2677\n",
       "999998  49233400.0     500  2732\n",
       "999999  48457300.0     500  2683\n",
       "\n",
       "[1000000 rows x 3 columns]"
      ]
     },
     "execution_count": 3,
     "metadata": {},
     "output_type": "execute_result"
    }
   ],
   "source": [
    "hashMap"
   ]
  },
  {
   "cell_type": "code",
   "execution_count": 4,
   "metadata": {},
   "outputs": [
    {
     "data": {
      "text/html": [
       "<div>\n",
       "<style scoped>\n",
       "    .dataframe tbody tr th:only-of-type {\n",
       "        vertical-align: middle;\n",
       "    }\n",
       "\n",
       "    .dataframe tbody tr th {\n",
       "        vertical-align: top;\n",
       "    }\n",
       "\n",
       "    .dataframe thead th {\n",
       "        text-align: right;\n",
       "    }\n",
       "</style>\n",
       "<table border=\"1\" class=\"dataframe\">\n",
       "  <thead>\n",
       "    <tr style=\"text-align: right;\">\n",
       "      <th></th>\n",
       "      <th>SUM</th>\n",
       "      <th>FRAMES</th>\n",
       "      <th>BACK</th>\n",
       "    </tr>\n",
       "  </thead>\n",
       "  <tbody>\n",
       "    <tr>\n",
       "      <td>0</td>\n",
       "      <td>7417.09</td>\n",
       "      <td>500</td>\n",
       "      <td>62</td>\n",
       "    </tr>\n",
       "    <tr>\n",
       "      <td>1</td>\n",
       "      <td>6513.67</td>\n",
       "      <td>500</td>\n",
       "      <td>469</td>\n",
       "    </tr>\n",
       "    <tr>\n",
       "      <td>2</td>\n",
       "      <td>6907.50</td>\n",
       "      <td>500</td>\n",
       "      <td>492</td>\n",
       "    </tr>\n",
       "    <tr>\n",
       "      <td>3</td>\n",
       "      <td>5702.21</td>\n",
       "      <td>500</td>\n",
       "      <td>514</td>\n",
       "    </tr>\n",
       "    <tr>\n",
       "      <td>4</td>\n",
       "      <td>5085.57</td>\n",
       "      <td>500</td>\n",
       "      <td>527</td>\n",
       "    </tr>\n",
       "    <tr>\n",
       "      <td>...</td>\n",
       "      <td>...</td>\n",
       "      <td>...</td>\n",
       "      <td>...</td>\n",
       "    </tr>\n",
       "    <tr>\n",
       "      <td>1727995</td>\n",
       "      <td>84484.90</td>\n",
       "      <td>500</td>\n",
       "      <td>1341</td>\n",
       "    </tr>\n",
       "    <tr>\n",
       "      <td>1727996</td>\n",
       "      <td>86643.60</td>\n",
       "      <td>500</td>\n",
       "      <td>1330</td>\n",
       "    </tr>\n",
       "    <tr>\n",
       "      <td>1727997</td>\n",
       "      <td>79282.60</td>\n",
       "      <td>500</td>\n",
       "      <td>1355</td>\n",
       "    </tr>\n",
       "    <tr>\n",
       "      <td>1727998</td>\n",
       "      <td>70164.90</td>\n",
       "      <td>500</td>\n",
       "      <td>1282</td>\n",
       "    </tr>\n",
       "    <tr>\n",
       "      <td>1727999</td>\n",
       "      <td>62714.60</td>\n",
       "      <td>500</td>\n",
       "      <td>1202</td>\n",
       "    </tr>\n",
       "  </tbody>\n",
       "</table>\n",
       "<p>1728000 rows × 3 columns</p>\n",
       "</div>"
      ],
      "text/plain": [
       "              SUM  FRAMES  BACK\n",
       "0         7417.09     500    62\n",
       "1         6513.67     500   469\n",
       "2         6907.50     500   492\n",
       "3         5702.21     500   514\n",
       "4         5085.57     500   527\n",
       "...           ...     ...   ...\n",
       "1727995  84484.90     500  1341\n",
       "1727996  86643.60     500  1330\n",
       "1727997  79282.60     500  1355\n",
       "1727998  70164.90     500  1282\n",
       "1727999  62714.60     500  1202\n",
       "\n",
       "[1728000 rows x 3 columns]"
      ]
     },
     "execution_count": 4,
     "metadata": {},
     "output_type": "execute_result"
    }
   ],
   "source": [
    "mortonCode"
   ]
  },
  {
   "cell_type": "code",
   "execution_count": 5,
   "metadata": {},
   "outputs": [
    {
     "data": {
      "text/plain": [
       "numpy.int64"
      ]
     },
     "execution_count": 5,
     "metadata": {},
     "output_type": "execute_result"
    }
   ],
   "source": [
    "type(mortonCode['SUM'][0])\n",
    "type(mortonCode['FRAMES'][0])"
   ]
  },
  {
   "cell_type": "code",
   "execution_count": 6,
   "metadata": {},
   "outputs": [],
   "source": [
    "#Vai criar um array qe vai ter como resultado Mortoncode[SUM][i]/Mortoncode[FRAMES][i]\n",
    "mortonCodeDiv=mortonCode['SUM']/mortonCode['FRAMES']\n",
    "mortonCodeDivBack=mortonCode['BACK']/mortonCode['FRAMES']\n",
    "\n",
    "hashMapDiv=hashMap['SUM']/hashMap['FRAMES']\n",
    "hashMapDivBack=hashMap['BACK']/hashMap['FRAMES']"
   ]
  },
  {
   "cell_type": "code",
   "execution_count": 7,
   "metadata": {},
   "outputs": [],
   "source": [
    "#Soma todos os resultados e divide pelo numero de particulas, assim temos a média por particula\n",
    "mortonCodeResult = mortonCodeDiv.sum()/mortonCodeDiv.size\n",
    "mortonCodeResultBack = mortonCodeDivBack.sum()/mortonCodeDivBack.size\n",
    "HashMapResult = hashMapDiv.sum()/hashMapDiv.size\n",
    "HashMapResultBack = hashMapDivBack.sum()/hashMapDivBack.size"
   ]
  },
  {
   "cell_type": "code",
   "execution_count": 8,
   "metadata": {},
   "outputs": [
    {
     "name": "stdout",
     "output_type": "stream",
     "text": [
      "Média da soma de distancias das particulas. Distancia da particula A até B, distancia de B ate C ...\n",
      "Quando a particula i vai para calcular a sua densidade, esta vai comparar com X número de outras particulas\n",
      "O resultado é a soma das distancias, distancia de indices dentro do buffer, de todas as particulas X que são vizinhas\n",
      "---------\n",
      "Resultado Morton Code:\n",
      "Média de distancia: 2450.8893727437276 Média de vezes que anda para tras: 3.1866168078703705\n",
      "---------\n",
      "Resultado Hash Map:\n",
      "Média de distancia: 78581.18518840002 Média de vezes que anda para tras: 5.8375183879999994\n"
     ]
    }
   ],
   "source": [
    "print(\"Média da soma de distancias das particulas. Distancia da particula A até B, distancia de B ate C ...\")\n",
    "print(\"Quando a particula i vai para calcular a sua densidade, esta vai comparar com X número de outras particulas\")\n",
    "print(\"O resultado é a soma das distancias, distancia de indices dentro do buffer, de todas as particulas X que são vizinhas\")\n",
    "print(\"---------\")\n",
    "print(\"Resultado Morton Code:\")\n",
    "print(\"Média de distancia:\",mortonCodeResult,\"Média de vezes que anda para tras:\",mortonCodeResultBack)\n",
    "print(\"---------\")\n",
    "print(\"Resultado Hash Map:\")\n",
    "print(\"Média de distancia:\",HashMapResult,\"Média de vezes que anda para tras:\",HashMapResultBack)"
   ]
  },
  {
   "cell_type": "markdown",
   "metadata": {},
   "source": [
    "### Andar para trás é importante, pois, normalmente a cache só trás dados que estão \"a frente\". Assim, sempre que se volta para trás é normal haver cache misses\n",
    "#### Por exemplo: vamos consultar o index 9 e para a cahce trazem o index 10,11,12,13. Se o proximo index a ver for o index 2, podemos ver que os valores da cache são inuteis"
   ]
  },
  {
   "cell_type": "code",
   "execution_count": null,
   "metadata": {},
   "outputs": [],
   "source": []
  }
 ],
 "metadata": {
  "kernelspec": {
   "display_name": "Python 3",
   "language": "python",
   "name": "python3"
  },
  "language_info": {
   "codemirror_mode": {
    "name": "ipython",
    "version": 3
   },
   "file_extension": ".py",
   "mimetype": "text/x-python",
   "name": "python",
   "nbconvert_exporter": "python",
   "pygments_lexer": "ipython3",
   "version": "3.7.4"
  }
 },
 "nbformat": 4,
 "nbformat_minor": 5
}
