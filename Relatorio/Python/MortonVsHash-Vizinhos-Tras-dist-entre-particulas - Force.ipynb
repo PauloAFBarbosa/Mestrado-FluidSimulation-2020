{
 "cells": [
  {
   "cell_type": "markdown",
   "id": "44db4083",
   "metadata": {},
   "source": [
    "# Morton Code vs Hash map - Conta apenas vizinhos e Normalizado"
   ]
  },
  {
   "cell_type": "markdown",
   "id": "0f620e40",
   "metadata": {},
   "source": [
    "## Vai medir a distancia da particula A até B depois a da particula B até C. Em vez de comprar todas as distancias com a particula principal"
   ]
  },
  {
   "cell_type": "code",
   "execution_count": 1,
   "id": "3ebbccf7",
   "metadata": {},
   "outputs": [],
   "source": [
    "import csv\n",
    "import pandas as pd"
   ]
  },
  {
   "cell_type": "code",
   "execution_count": 2,
   "id": "30247099",
   "metadata": {},
   "outputs": [],
   "source": [
    "hashMap = pd.read_csv('data/Force_HashMap_1000000.txt',sep=' ',usecols= ['SUM','FRAMES','BACK'])\n",
    "mortonCode = pd.read_csv('data/Force_MortonCode.txt',sep=' ',usecols= ['SUM','FRAMES','BACK'])"
   ]
  },
  {
   "cell_type": "code",
   "execution_count": 3,
   "id": "4b014f97",
   "metadata": {},
   "outputs": [
    {
     "data": {
      "text/html": [
       "<div>\n",
       "<style scoped>\n",
       "    .dataframe tbody tr th:only-of-type {\n",
       "        vertical-align: middle;\n",
       "    }\n",
       "\n",
       "    .dataframe tbody tr th {\n",
       "        vertical-align: top;\n",
       "    }\n",
       "\n",
       "    .dataframe thead th {\n",
       "        text-align: right;\n",
       "    }\n",
       "</style>\n",
       "<table border=\"1\" class=\"dataframe\">\n",
       "  <thead>\n",
       "    <tr style=\"text-align: right;\">\n",
       "      <th></th>\n",
       "      <th>SUM</th>\n",
       "      <th>FRAMES</th>\n",
       "      <th>BACK</th>\n",
       "    </tr>\n",
       "  </thead>\n",
       "  <tbody>\n",
       "    <tr>\n",
       "      <th>0</th>\n",
       "      <td>793037000.0</td>\n",
       "      <td>500</td>\n",
       "      <td>2297</td>\n",
       "    </tr>\n",
       "    <tr>\n",
       "      <th>1</th>\n",
       "      <td>578328000.0</td>\n",
       "      <td>500</td>\n",
       "      <td>2851</td>\n",
       "    </tr>\n",
       "    <tr>\n",
       "      <th>2</th>\n",
       "      <td>601753000.0</td>\n",
       "      <td>500</td>\n",
       "      <td>3050</td>\n",
       "    </tr>\n",
       "    <tr>\n",
       "      <th>3</th>\n",
       "      <td>589838000.0</td>\n",
       "      <td>500</td>\n",
       "      <td>3027</td>\n",
       "    </tr>\n",
       "    <tr>\n",
       "      <th>4</th>\n",
       "      <td>376765000.0</td>\n",
       "      <td>500</td>\n",
       "      <td>2918</td>\n",
       "    </tr>\n",
       "    <tr>\n",
       "      <th>...</th>\n",
       "      <td>...</td>\n",
       "      <td>...</td>\n",
       "      <td>...</td>\n",
       "    </tr>\n",
       "    <tr>\n",
       "      <th>1727995</th>\n",
       "      <td>352537000.0</td>\n",
       "      <td>500</td>\n",
       "      <td>3792</td>\n",
       "    </tr>\n",
       "    <tr>\n",
       "      <th>1727996</th>\n",
       "      <td>456773000.0</td>\n",
       "      <td>500</td>\n",
       "      <td>3708</td>\n",
       "    </tr>\n",
       "    <tr>\n",
       "      <th>1727997</th>\n",
       "      <td>414033000.0</td>\n",
       "      <td>500</td>\n",
       "      <td>3666</td>\n",
       "    </tr>\n",
       "    <tr>\n",
       "      <th>1727998</th>\n",
       "      <td>332237000.0</td>\n",
       "      <td>500</td>\n",
       "      <td>3490</td>\n",
       "    </tr>\n",
       "    <tr>\n",
       "      <th>1727999</th>\n",
       "      <td>365815000.0</td>\n",
       "      <td>500</td>\n",
       "      <td>3506</td>\n",
       "    </tr>\n",
       "  </tbody>\n",
       "</table>\n",
       "<p>1728000 rows × 3 columns</p>\n",
       "</div>"
      ],
      "text/plain": [
       "                 SUM  FRAMES  BACK\n",
       "0        793037000.0     500  2297\n",
       "1        578328000.0     500  2851\n",
       "2        601753000.0     500  3050\n",
       "3        589838000.0     500  3027\n",
       "4        376765000.0     500  2918\n",
       "...              ...     ...   ...\n",
       "1727995  352537000.0     500  3792\n",
       "1727996  456773000.0     500  3708\n",
       "1727997  414033000.0     500  3666\n",
       "1727998  332237000.0     500  3490\n",
       "1727999  365815000.0     500  3506\n",
       "\n",
       "[1728000 rows x 3 columns]"
      ]
     },
     "execution_count": 3,
     "metadata": {},
     "output_type": "execute_result"
    }
   ],
   "source": [
    "hashMap"
   ]
  },
  {
   "cell_type": "code",
   "execution_count": 4,
   "id": "553d955d",
   "metadata": {},
   "outputs": [
    {
     "data": {
      "text/html": [
       "<div>\n",
       "<style scoped>\n",
       "    .dataframe tbody tr th:only-of-type {\n",
       "        vertical-align: middle;\n",
       "    }\n",
       "\n",
       "    .dataframe tbody tr th {\n",
       "        vertical-align: top;\n",
       "    }\n",
       "\n",
       "    .dataframe thead th {\n",
       "        text-align: right;\n",
       "    }\n",
       "</style>\n",
       "<table border=\"1\" class=\"dataframe\">\n",
       "  <thead>\n",
       "    <tr style=\"text-align: right;\">\n",
       "      <th></th>\n",
       "      <th>SUM</th>\n",
       "      <th>FRAMES</th>\n",
       "      <th>BACK</th>\n",
       "    </tr>\n",
       "  </thead>\n",
       "  <tbody>\n",
       "    <tr>\n",
       "      <th>0</th>\n",
       "      <td>166481.0</td>\n",
       "      <td>500</td>\n",
       "      <td>62</td>\n",
       "    </tr>\n",
       "    <tr>\n",
       "      <th>1</th>\n",
       "      <td>145690.0</td>\n",
       "      <td>500</td>\n",
       "      <td>469</td>\n",
       "    </tr>\n",
       "    <tr>\n",
       "      <th>2</th>\n",
       "      <td>151432.0</td>\n",
       "      <td>500</td>\n",
       "      <td>492</td>\n",
       "    </tr>\n",
       "    <tr>\n",
       "      <th>3</th>\n",
       "      <td>138370.0</td>\n",
       "      <td>500</td>\n",
       "      <td>514</td>\n",
       "    </tr>\n",
       "    <tr>\n",
       "      <th>4</th>\n",
       "      <td>137903.0</td>\n",
       "      <td>500</td>\n",
       "      <td>527</td>\n",
       "    </tr>\n",
       "    <tr>\n",
       "      <th>...</th>\n",
       "      <td>...</td>\n",
       "      <td>...</td>\n",
       "      <td>...</td>\n",
       "    </tr>\n",
       "    <tr>\n",
       "      <th>1727995</th>\n",
       "      <td>1561040.0</td>\n",
       "      <td>500</td>\n",
       "      <td>1338</td>\n",
       "    </tr>\n",
       "    <tr>\n",
       "      <th>1727996</th>\n",
       "      <td>1632480.0</td>\n",
       "      <td>500</td>\n",
       "      <td>1321</td>\n",
       "    </tr>\n",
       "    <tr>\n",
       "      <th>1727997</th>\n",
       "      <td>1486080.0</td>\n",
       "      <td>500</td>\n",
       "      <td>1330</td>\n",
       "    </tr>\n",
       "    <tr>\n",
       "      <th>1727998</th>\n",
       "      <td>1321140.0</td>\n",
       "      <td>500</td>\n",
       "      <td>1261</td>\n",
       "    </tr>\n",
       "    <tr>\n",
       "      <th>1727999</th>\n",
       "      <td>1174320.0</td>\n",
       "      <td>500</td>\n",
       "      <td>1181</td>\n",
       "    </tr>\n",
       "  </tbody>\n",
       "</table>\n",
       "<p>1728000 rows × 3 columns</p>\n",
       "</div>"
      ],
      "text/plain": [
       "               SUM  FRAMES  BACK\n",
       "0         166481.0     500    62\n",
       "1         145690.0     500   469\n",
       "2         151432.0     500   492\n",
       "3         138370.0     500   514\n",
       "4         137903.0     500   527\n",
       "...            ...     ...   ...\n",
       "1727995  1561040.0     500  1338\n",
       "1727996  1632480.0     500  1321\n",
       "1727997  1486080.0     500  1330\n",
       "1727998  1321140.0     500  1261\n",
       "1727999  1174320.0     500  1181\n",
       "\n",
       "[1728000 rows x 3 columns]"
      ]
     },
     "execution_count": 4,
     "metadata": {},
     "output_type": "execute_result"
    }
   ],
   "source": [
    "mortonCode"
   ]
  },
  {
   "cell_type": "code",
   "execution_count": 5,
   "id": "7003c2ce",
   "metadata": {},
   "outputs": [
    {
     "data": {
      "text/plain": [
       "numpy.int64"
      ]
     },
     "execution_count": 5,
     "metadata": {},
     "output_type": "execute_result"
    }
   ],
   "source": [
    "type(mortonCode['SUM'][0])\n",
    "type(mortonCode['FRAMES'][0])"
   ]
  },
  {
   "cell_type": "code",
   "execution_count": 6,
   "id": "8191e40e",
   "metadata": {},
   "outputs": [],
   "source": [
    "#Vai criar um array qe vai ter como resultado Mortoncode[SUM][i]/Mortoncode[FRAMES][i]\n",
    "mortonCodeDiv=mortonCode['SUM']/mortonCode['FRAMES']\n",
    "mortonCodeDivBack=mortonCode['BACK']/mortonCode['FRAMES']\n",
    "\n",
    "hashMapDiv=hashMap['SUM']/hashMap['FRAMES']\n",
    "hashMapDivBack=hashMap['BACK']/hashMap['FRAMES']"
   ]
  },
  {
   "cell_type": "code",
   "execution_count": 7,
   "id": "6187d253",
   "metadata": {},
   "outputs": [],
   "source": [
    "#Soma todos os resultados e divide pelo numero de particulas, assim temos a média por particula\n",
    "mortonCodeResult = mortonCodeDiv.sum()/mortonCodeDiv.size\n",
    "mortonCodeResultBack = mortonCodeDivBack.sum()/mortonCodeDivBack.size\n",
    "HashMapResult = hashMapDiv.sum()/hashMapDiv.size\n",
    "HashMapResultBack = hashMapDivBack.sum()/hashMapDivBack.size"
   ]
  },
  {
   "cell_type": "code",
   "execution_count": 8,
   "id": "2052fb47",
   "metadata": {},
   "outputs": [
    {
     "name": "stdout",
     "output_type": "stream",
     "text": [
      "Média da soma de distancias das particulas. Distancia da particula A até B, distancia de B ate C ...\n",
      "Quando a particula i vai para calcular a sua densidade, esta vai comparar com X número de outras particulas\n",
      "O resultado é a soma das distancias, distancia de indices dentro do buffer, de todas as particulas X que são vizinhas\n",
      "---------\n",
      "Resultado Morton Code:\n",
      "Média de distancia: 111536.05748979856 Média de vezes que anda para tras: 3.1861462650462964\n",
      "---------\n",
      "Resultado Hash Map:\n",
      "Média de distancia: 783295.9095185185 Média de vezes que anda para tras: 6.147069460648146\n"
     ]
    }
   ],
   "source": [
    "print(\"Média da soma de distancias das particulas. Distancia da particula A até B, distancia de B ate C ...\")\n",
    "print(\"Quando a particula i vai para calcular a sua densidade, esta vai comparar com X número de outras particulas\")\n",
    "print(\"O resultado é a soma das distancias, distancia de indices dentro do buffer, de todas as particulas X que são vizinhas\")\n",
    "print(\"---------\")\n",
    "print(\"Resultado Morton Code:\")\n",
    "print(\"Média de distancia:\",mortonCodeResult,\"Média de vezes que anda para tras:\",mortonCodeResultBack)\n",
    "print(\"---------\")\n",
    "print(\"Resultado Hash Map:\")\n",
    "print(\"Média de distancia:\",HashMapResult,\"Média de vezes que anda para tras:\",HashMapResultBack)"
   ]
  },
  {
   "cell_type": "markdown",
   "id": "db256cee",
   "metadata": {},
   "source": [
    "### A distancia é -> Em média, por cada frame, uma particula percorre X indexes de distancia para apanhar todos os deus vizinhos\n",
    "### Tras é -> Quantas vezes temos de voltar para tras na procura de vizinhos, por exemplos o vizinho estano no index 10 e o prox vizinho esta no index 1. Voltar para trás é mau para a cache"
   ]
  },
  {
   "cell_type": "code",
   "execution_count": null,
   "id": "f4bba28b",
   "metadata": {},
   "outputs": [],
   "source": []
  }
 ],
 "metadata": {
  "kernelspec": {
   "display_name": "Python 3",
   "language": "python",
   "name": "python3"
  },
  "language_info": {
   "codemirror_mode": {
    "name": "ipython",
    "version": 3
   },
   "file_extension": ".py",
   "mimetype": "text/x-python",
   "name": "python",
   "nbconvert_exporter": "python",
   "pygments_lexer": "ipython3",
   "version": "3.8.8"
  }
 },
 "nbformat": 4,
 "nbformat_minor": 5
}
